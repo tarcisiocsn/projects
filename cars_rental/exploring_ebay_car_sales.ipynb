{
 "cells": [
  {
   "cell_type": "code",
   "execution_count": 66,
   "metadata": {},
   "outputs": [],
   "source": [
    "import pandas as pd\n",
    "import numpy as np"
   ]
  },
  {
   "cell_type": "code",
   "execution_count": 67,
   "metadata": {},
   "outputs": [
    {
     "name": "stdout",
     "output_type": "stream",
     "text": [
      "<class 'pandas.core.frame.DataFrame'>\n",
      "RangeIndex: 50000 entries, 0 to 49999\n",
      "Data columns (total 20 columns):\n",
      " #   Column               Non-Null Count  Dtype \n",
      "---  ------               --------------  ----- \n",
      " 0   dateCrawled          50000 non-null  object\n",
      " 1   name                 50000 non-null  object\n",
      " 2   seller               50000 non-null  object\n",
      " 3   offerType            50000 non-null  object\n",
      " 4   price                50000 non-null  object\n",
      " 5   abtest               50000 non-null  object\n",
      " 6   vehicleType          44905 non-null  object\n",
      " 7   yearOfRegistration   50000 non-null  int64 \n",
      " 8   gearbox              47320 non-null  object\n",
      " 9   powerPS              50000 non-null  int64 \n",
      " 10  model                47242 non-null  object\n",
      " 11  odometer             50000 non-null  object\n",
      " 12  monthOfRegistration  50000 non-null  int64 \n",
      " 13  fuelType             45518 non-null  object\n",
      " 14  brand                50000 non-null  object\n",
      " 15  notRepairedDamage    40171 non-null  object\n",
      " 16  dateCreated          50000 non-null  object\n",
      " 17  nrOfPictures         50000 non-null  int64 \n",
      " 18  postalCode           50000 non-null  int64 \n",
      " 19  lastSeen             50000 non-null  object\n",
      "dtypes: int64(5), object(15)\n",
      "memory usage: 7.6+ MB\n",
      "None\n"
     ]
    }
   ],
   "source": [
    "autos = pd.read_csv('autos.csv', encoding = 'Latin=1')\n",
    "print(autos.info())"
   ]
  },
  {
   "cell_type": "code",
   "execution_count": 68,
   "metadata": {},
   "outputs": [
    {
     "name": "stdout",
     "output_type": "stream",
     "text": [
      "           dateCrawled                                               name  \\\n",
      "0  2016-03-26 17:47:46                   Peugeot_807_160_NAVTECH_ON_BOARD   \n",
      "1  2016-04-04 13:38:56         BMW_740i_4_4_Liter_HAMANN_UMBAU_Mega_Optik   \n",
      "2  2016-03-26 18:57:24                         Volkswagen_Golf_1.6_United   \n",
      "3  2016-03-12 16:58:10  Smart_smart_fortwo_coupe_softouch/F1/Klima/Pan...   \n",
      "4  2016-04-01 14:38:50  Ford_Focus_1_6_Benzin_TÜV_neu_ist_sehr_gepfleg...   \n",
      "\n",
      "   seller offerType   price   abtest vehicleType  yearOfRegistration  \\\n",
      "0  privat   Angebot  $5,000  control         bus                2004   \n",
      "1  privat   Angebot  $8,500  control   limousine                1997   \n",
      "2  privat   Angebot  $8,990     test   limousine                2009   \n",
      "3  privat   Angebot  $4,350  control  kleinwagen                2007   \n",
      "4  privat   Angebot  $1,350     test       kombi                2003   \n",
      "\n",
      "     gearbox  powerPS   model   odometer  monthOfRegistration fuelType  \\\n",
      "0    manuell      158  andere  150,000km                    3      lpg   \n",
      "1  automatik      286     7er  150,000km                    6   benzin   \n",
      "2    manuell      102    golf   70,000km                    7   benzin   \n",
      "3  automatik       71  fortwo   70,000km                    6   benzin   \n",
      "4    manuell        0   focus  150,000km                    7   benzin   \n",
      "\n",
      "        brand notRepairedDamage          dateCreated  nrOfPictures  \\\n",
      "0     peugeot              nein  2016-03-26 00:00:00             0   \n",
      "1         bmw              nein  2016-04-04 00:00:00             0   \n",
      "2  volkswagen              nein  2016-03-26 00:00:00             0   \n",
      "3       smart              nein  2016-03-12 00:00:00             0   \n",
      "4        ford              nein  2016-04-01 00:00:00             0   \n",
      "\n",
      "   postalCode             lastSeen  \n",
      "0       79588  2016-04-06 06:45:54  \n",
      "1       71034  2016-04-06 14:45:08  \n",
      "2       35394  2016-04-06 20:15:37  \n",
      "3       33729  2016-03-15 03:16:28  \n",
      "4       39218  2016-04-01 14:38:50  \n"
     ]
    }
   ],
   "source": [
    "print(autos.head(5))"
   ]
  },
  {
   "cell_type": "markdown",
   "metadata": {},
   "source": [
    "From the work we did in the last screen, we can make the following observations:\n",
    "\n",
    "- The dataset contains 20 columns, most of which are strings.\n",
    "- Some columns have null values, but none have more than ~20% null values.\n",
    "- The column names use camelcase instead of Python's preferred snakecase, which means we can't just replace spaces with underscores."
   ]
  },
  {
   "cell_type": "code",
   "execution_count": 69,
   "metadata": {},
   "outputs": [
    {
     "name": "stdout",
     "output_type": "stream",
     "text": [
      "Index(['dateCrawled', 'name', 'seller', 'offerType', 'price', 'abtest',\n",
      "       'vehicleType', 'yearOfRegistration', 'gearbox', 'powerPS', 'model',\n",
      "       'odometer', 'monthOfRegistration', 'fuelType', 'brand',\n",
      "       'notRepairedDamage', 'dateCreated', 'nrOfPictures', 'postalCode',\n",
      "       'lastSeen'],\n",
      "      dtype='object')\n"
     ]
    }
   ],
   "source": [
    "# print a array of the existing column names\n",
    "\n",
    "autos_col = autos.columns\n",
    "print(autos_col)"
   ]
  },
  {
   "cell_type": "code",
   "execution_count": 70,
   "metadata": {},
   "outputs": [
    {
     "name": "stdout",
     "output_type": "stream",
     "text": [
      "          date_crawled                                        name  seller  \\\n",
      "0  2016-03-26 17:47:46            Peugeot_807_160_NAVTECH_ON_BOARD  privat   \n",
      "1  2016-04-04 13:38:56  BMW_740i_4_4_Liter_HAMANN_UMBAU_Mega_Optik  privat   \n",
      "2  2016-03-26 18:57:24                  Volkswagen_Golf_1.6_United  privat   \n",
      "\n",
      "  offer_type   price  ab_test vehicle_type  registration_year    gearbox  \\\n",
      "0    Angebot  $5,000  control          bus               2004    manuell   \n",
      "1    Angebot  $8,500  control    limousine               1997  automatik   \n",
      "2    Angebot  $8,990     test    limousine               2009    manuell   \n",
      "\n",
      "   power_ps   model   odometer  registration_month fuel_type       brand  \\\n",
      "0       158  andere  150,000km                   3       lpg     peugeot   \n",
      "1       286     7er  150,000km                   6    benzin         bmw   \n",
      "2       102    golf   70,000km                   7    benzin  volkswagen   \n",
      "\n",
      "  unrepaired_damage           ad_created  nr_of_pictures  postal_code  \\\n",
      "0              nein  2016-03-26 00:00:00               0        79588   \n",
      "1              nein  2016-04-04 00:00:00               0        71034   \n",
      "2              nein  2016-03-26 00:00:00               0        35394   \n",
      "\n",
      "             last_seen  \n",
      "0  2016-04-06 06:45:54  \n",
      "1  2016-04-06 14:45:08  \n",
      "2  2016-04-06 20:15:37  \n"
     ]
    }
   ],
   "source": [
    "autos.columns = ['date_crawled', 'name', 'seller', 'offer_type', 'price', 'ab_test',\n",
    "       'vehicle_type', 'registration_year', 'gearbox', 'power_ps', 'model',\n",
    "       'odometer', 'registration_month', 'fuel_type', 'brand',\n",
    "       'unrepaired_damage', 'ad_created', 'nr_of_pictures', 'postal_code',\n",
    "       'last_seen']\n",
    "\n",
    "print(autos.head(3))"
   ]
  },
  {
   "cell_type": "code",
   "execution_count": 71,
   "metadata": {},
   "outputs": [
    {
     "data": {
      "text/html": [
       "<div>\n",
       "<style scoped>\n",
       "    .dataframe tbody tr th:only-of-type {\n",
       "        vertical-align: middle;\n",
       "    }\n",
       "\n",
       "    .dataframe tbody tr th {\n",
       "        vertical-align: top;\n",
       "    }\n",
       "\n",
       "    .dataframe thead th {\n",
       "        text-align: right;\n",
       "    }\n",
       "</style>\n",
       "<table border=\"1\" class=\"dataframe\">\n",
       "  <thead>\n",
       "    <tr style=\"text-align: right;\">\n",
       "      <th></th>\n",
       "      <th>date_crawled</th>\n",
       "      <th>name</th>\n",
       "      <th>seller</th>\n",
       "      <th>offer_type</th>\n",
       "      <th>price</th>\n",
       "      <th>ab_test</th>\n",
       "      <th>vehicle_type</th>\n",
       "      <th>registration_year</th>\n",
       "      <th>gearbox</th>\n",
       "      <th>power_ps</th>\n",
       "      <th>model</th>\n",
       "      <th>odometer</th>\n",
       "      <th>registration_month</th>\n",
       "      <th>fuel_type</th>\n",
       "      <th>brand</th>\n",
       "      <th>unrepaired_damage</th>\n",
       "      <th>ad_created</th>\n",
       "      <th>nr_of_pictures</th>\n",
       "      <th>postal_code</th>\n",
       "      <th>last_seen</th>\n",
       "    </tr>\n",
       "  </thead>\n",
       "  <tbody>\n",
       "    <tr>\n",
       "      <th>count</th>\n",
       "      <td>50000</td>\n",
       "      <td>50000</td>\n",
       "      <td>50000</td>\n",
       "      <td>50000</td>\n",
       "      <td>50000</td>\n",
       "      <td>50000</td>\n",
       "      <td>44905</td>\n",
       "      <td>50000.000000</td>\n",
       "      <td>47320</td>\n",
       "      <td>50000.000000</td>\n",
       "      <td>47242</td>\n",
       "      <td>50000</td>\n",
       "      <td>50000.000000</td>\n",
       "      <td>45518</td>\n",
       "      <td>50000</td>\n",
       "      <td>40171</td>\n",
       "      <td>50000</td>\n",
       "      <td>50000.0</td>\n",
       "      <td>50000.000000</td>\n",
       "      <td>50000</td>\n",
       "    </tr>\n",
       "    <tr>\n",
       "      <th>unique</th>\n",
       "      <td>48213</td>\n",
       "      <td>38754</td>\n",
       "      <td>2</td>\n",
       "      <td>2</td>\n",
       "      <td>2357</td>\n",
       "      <td>2</td>\n",
       "      <td>8</td>\n",
       "      <td>NaN</td>\n",
       "      <td>2</td>\n",
       "      <td>NaN</td>\n",
       "      <td>245</td>\n",
       "      <td>13</td>\n",
       "      <td>NaN</td>\n",
       "      <td>7</td>\n",
       "      <td>40</td>\n",
       "      <td>2</td>\n",
       "      <td>76</td>\n",
       "      <td>NaN</td>\n",
       "      <td>NaN</td>\n",
       "      <td>39481</td>\n",
       "    </tr>\n",
       "    <tr>\n",
       "      <th>top</th>\n",
       "      <td>2016-03-19 17:36:18</td>\n",
       "      <td>Ford_Fiesta</td>\n",
       "      <td>privat</td>\n",
       "      <td>Angebot</td>\n",
       "      <td>$0</td>\n",
       "      <td>test</td>\n",
       "      <td>limousine</td>\n",
       "      <td>NaN</td>\n",
       "      <td>manuell</td>\n",
       "      <td>NaN</td>\n",
       "      <td>golf</td>\n",
       "      <td>150,000km</td>\n",
       "      <td>NaN</td>\n",
       "      <td>benzin</td>\n",
       "      <td>volkswagen</td>\n",
       "      <td>nein</td>\n",
       "      <td>2016-04-03 00:00:00</td>\n",
       "      <td>NaN</td>\n",
       "      <td>NaN</td>\n",
       "      <td>2016-04-07 06:17:27</td>\n",
       "    </tr>\n",
       "    <tr>\n",
       "      <th>freq</th>\n",
       "      <td>3</td>\n",
       "      <td>78</td>\n",
       "      <td>49999</td>\n",
       "      <td>49999</td>\n",
       "      <td>1421</td>\n",
       "      <td>25756</td>\n",
       "      <td>12859</td>\n",
       "      <td>NaN</td>\n",
       "      <td>36993</td>\n",
       "      <td>NaN</td>\n",
       "      <td>4024</td>\n",
       "      <td>32424</td>\n",
       "      <td>NaN</td>\n",
       "      <td>30107</td>\n",
       "      <td>10687</td>\n",
       "      <td>35232</td>\n",
       "      <td>1946</td>\n",
       "      <td>NaN</td>\n",
       "      <td>NaN</td>\n",
       "      <td>8</td>\n",
       "    </tr>\n",
       "    <tr>\n",
       "      <th>mean</th>\n",
       "      <td>NaN</td>\n",
       "      <td>NaN</td>\n",
       "      <td>NaN</td>\n",
       "      <td>NaN</td>\n",
       "      <td>NaN</td>\n",
       "      <td>NaN</td>\n",
       "      <td>NaN</td>\n",
       "      <td>2005.073280</td>\n",
       "      <td>NaN</td>\n",
       "      <td>116.355920</td>\n",
       "      <td>NaN</td>\n",
       "      <td>NaN</td>\n",
       "      <td>5.723360</td>\n",
       "      <td>NaN</td>\n",
       "      <td>NaN</td>\n",
       "      <td>NaN</td>\n",
       "      <td>NaN</td>\n",
       "      <td>0.0</td>\n",
       "      <td>50813.627300</td>\n",
       "      <td>NaN</td>\n",
       "    </tr>\n",
       "    <tr>\n",
       "      <th>std</th>\n",
       "      <td>NaN</td>\n",
       "      <td>NaN</td>\n",
       "      <td>NaN</td>\n",
       "      <td>NaN</td>\n",
       "      <td>NaN</td>\n",
       "      <td>NaN</td>\n",
       "      <td>NaN</td>\n",
       "      <td>105.712813</td>\n",
       "      <td>NaN</td>\n",
       "      <td>209.216627</td>\n",
       "      <td>NaN</td>\n",
       "      <td>NaN</td>\n",
       "      <td>3.711984</td>\n",
       "      <td>NaN</td>\n",
       "      <td>NaN</td>\n",
       "      <td>NaN</td>\n",
       "      <td>NaN</td>\n",
       "      <td>0.0</td>\n",
       "      <td>25779.747957</td>\n",
       "      <td>NaN</td>\n",
       "    </tr>\n",
       "    <tr>\n",
       "      <th>min</th>\n",
       "      <td>NaN</td>\n",
       "      <td>NaN</td>\n",
       "      <td>NaN</td>\n",
       "      <td>NaN</td>\n",
       "      <td>NaN</td>\n",
       "      <td>NaN</td>\n",
       "      <td>NaN</td>\n",
       "      <td>1000.000000</td>\n",
       "      <td>NaN</td>\n",
       "      <td>0.000000</td>\n",
       "      <td>NaN</td>\n",
       "      <td>NaN</td>\n",
       "      <td>0.000000</td>\n",
       "      <td>NaN</td>\n",
       "      <td>NaN</td>\n",
       "      <td>NaN</td>\n",
       "      <td>NaN</td>\n",
       "      <td>0.0</td>\n",
       "      <td>1067.000000</td>\n",
       "      <td>NaN</td>\n",
       "    </tr>\n",
       "    <tr>\n",
       "      <th>25%</th>\n",
       "      <td>NaN</td>\n",
       "      <td>NaN</td>\n",
       "      <td>NaN</td>\n",
       "      <td>NaN</td>\n",
       "      <td>NaN</td>\n",
       "      <td>NaN</td>\n",
       "      <td>NaN</td>\n",
       "      <td>1999.000000</td>\n",
       "      <td>NaN</td>\n",
       "      <td>70.000000</td>\n",
       "      <td>NaN</td>\n",
       "      <td>NaN</td>\n",
       "      <td>3.000000</td>\n",
       "      <td>NaN</td>\n",
       "      <td>NaN</td>\n",
       "      <td>NaN</td>\n",
       "      <td>NaN</td>\n",
       "      <td>0.0</td>\n",
       "      <td>30451.000000</td>\n",
       "      <td>NaN</td>\n",
       "    </tr>\n",
       "    <tr>\n",
       "      <th>50%</th>\n",
       "      <td>NaN</td>\n",
       "      <td>NaN</td>\n",
       "      <td>NaN</td>\n",
       "      <td>NaN</td>\n",
       "      <td>NaN</td>\n",
       "      <td>NaN</td>\n",
       "      <td>NaN</td>\n",
       "      <td>2003.000000</td>\n",
       "      <td>NaN</td>\n",
       "      <td>105.000000</td>\n",
       "      <td>NaN</td>\n",
       "      <td>NaN</td>\n",
       "      <td>6.000000</td>\n",
       "      <td>NaN</td>\n",
       "      <td>NaN</td>\n",
       "      <td>NaN</td>\n",
       "      <td>NaN</td>\n",
       "      <td>0.0</td>\n",
       "      <td>49577.000000</td>\n",
       "      <td>NaN</td>\n",
       "    </tr>\n",
       "    <tr>\n",
       "      <th>75%</th>\n",
       "      <td>NaN</td>\n",
       "      <td>NaN</td>\n",
       "      <td>NaN</td>\n",
       "      <td>NaN</td>\n",
       "      <td>NaN</td>\n",
       "      <td>NaN</td>\n",
       "      <td>NaN</td>\n",
       "      <td>2008.000000</td>\n",
       "      <td>NaN</td>\n",
       "      <td>150.000000</td>\n",
       "      <td>NaN</td>\n",
       "      <td>NaN</td>\n",
       "      <td>9.000000</td>\n",
       "      <td>NaN</td>\n",
       "      <td>NaN</td>\n",
       "      <td>NaN</td>\n",
       "      <td>NaN</td>\n",
       "      <td>0.0</td>\n",
       "      <td>71540.000000</td>\n",
       "      <td>NaN</td>\n",
       "    </tr>\n",
       "    <tr>\n",
       "      <th>max</th>\n",
       "      <td>NaN</td>\n",
       "      <td>NaN</td>\n",
       "      <td>NaN</td>\n",
       "      <td>NaN</td>\n",
       "      <td>NaN</td>\n",
       "      <td>NaN</td>\n",
       "      <td>NaN</td>\n",
       "      <td>9999.000000</td>\n",
       "      <td>NaN</td>\n",
       "      <td>17700.000000</td>\n",
       "      <td>NaN</td>\n",
       "      <td>NaN</td>\n",
       "      <td>12.000000</td>\n",
       "      <td>NaN</td>\n",
       "      <td>NaN</td>\n",
       "      <td>NaN</td>\n",
       "      <td>NaN</td>\n",
       "      <td>0.0</td>\n",
       "      <td>99998.000000</td>\n",
       "      <td>NaN</td>\n",
       "    </tr>\n",
       "  </tbody>\n",
       "</table>\n",
       "</div>"
      ],
      "text/plain": [
       "               date_crawled         name  seller offer_type  price ab_test  \\\n",
       "count                 50000        50000   50000      50000  50000   50000   \n",
       "unique                48213        38754       2          2   2357       2   \n",
       "top     2016-03-19 17:36:18  Ford_Fiesta  privat    Angebot     $0    test   \n",
       "freq                      3           78   49999      49999   1421   25756   \n",
       "mean                    NaN          NaN     NaN        NaN    NaN     NaN   \n",
       "std                     NaN          NaN     NaN        NaN    NaN     NaN   \n",
       "min                     NaN          NaN     NaN        NaN    NaN     NaN   \n",
       "25%                     NaN          NaN     NaN        NaN    NaN     NaN   \n",
       "50%                     NaN          NaN     NaN        NaN    NaN     NaN   \n",
       "75%                     NaN          NaN     NaN        NaN    NaN     NaN   \n",
       "max                     NaN          NaN     NaN        NaN    NaN     NaN   \n",
       "\n",
       "       vehicle_type  registration_year  gearbox      power_ps  model  \\\n",
       "count         44905       50000.000000    47320  50000.000000  47242   \n",
       "unique            8                NaN        2           NaN    245   \n",
       "top       limousine                NaN  manuell           NaN   golf   \n",
       "freq          12859                NaN    36993           NaN   4024   \n",
       "mean            NaN        2005.073280      NaN    116.355920    NaN   \n",
       "std             NaN         105.712813      NaN    209.216627    NaN   \n",
       "min             NaN        1000.000000      NaN      0.000000    NaN   \n",
       "25%             NaN        1999.000000      NaN     70.000000    NaN   \n",
       "50%             NaN        2003.000000      NaN    105.000000    NaN   \n",
       "75%             NaN        2008.000000      NaN    150.000000    NaN   \n",
       "max             NaN        9999.000000      NaN  17700.000000    NaN   \n",
       "\n",
       "         odometer  registration_month fuel_type       brand unrepaired_damage  \\\n",
       "count       50000        50000.000000     45518       50000             40171   \n",
       "unique         13                 NaN         7          40                 2   \n",
       "top     150,000km                 NaN    benzin  volkswagen              nein   \n",
       "freq        32424                 NaN     30107       10687             35232   \n",
       "mean          NaN            5.723360       NaN         NaN               NaN   \n",
       "std           NaN            3.711984       NaN         NaN               NaN   \n",
       "min           NaN            0.000000       NaN         NaN               NaN   \n",
       "25%           NaN            3.000000       NaN         NaN               NaN   \n",
       "50%           NaN            6.000000       NaN         NaN               NaN   \n",
       "75%           NaN            9.000000       NaN         NaN               NaN   \n",
       "max           NaN           12.000000       NaN         NaN               NaN   \n",
       "\n",
       "                 ad_created  nr_of_pictures   postal_code            last_seen  \n",
       "count                 50000         50000.0  50000.000000                50000  \n",
       "unique                   76             NaN           NaN                39481  \n",
       "top     2016-04-03 00:00:00             NaN           NaN  2016-04-07 06:17:27  \n",
       "freq                   1946             NaN           NaN                    8  \n",
       "mean                    NaN             0.0  50813.627300                  NaN  \n",
       "std                     NaN             0.0  25779.747957                  NaN  \n",
       "min                     NaN             0.0   1067.000000                  NaN  \n",
       "25%                     NaN             0.0  30451.000000                  NaN  \n",
       "50%                     NaN             0.0  49577.000000                  NaN  \n",
       "75%                     NaN             0.0  71540.000000                  NaN  \n",
       "max                     NaN             0.0  99998.000000                  NaN  "
      ]
     },
     "execution_count": 71,
     "metadata": {},
     "output_type": "execute_result"
    }
   ],
   "source": [
    "autos.describe(include = 'all')"
   ]
  },
  {
   "cell_type": "markdown",
   "metadata": {},
   "source": [
    "Price and odometer columns are numeric valures stored as text"
   ]
  },
  {
   "cell_type": "code",
   "execution_count": 72,
   "metadata": {},
   "outputs": [
    {
     "name": "stdout",
     "output_type": "stream",
     "text": [
      "0    $5,000\n",
      "1    $8,500\n",
      "2    $8,990\n",
      "3    $4,350\n",
      "4    $1,350\n",
      "Name: price, dtype: object\n",
      "0    150,000km\n",
      "1    150,000km\n",
      "2     70,000km\n",
      "3     70,000km\n",
      "4    150,000km\n",
      "Name: odometer, dtype: object\n"
     ]
    }
   ],
   "source": [
    "print(autos[\"price\"].head())\n",
    "print(autos[\"odometer\"].head())"
   ]
  },
  {
   "cell_type": "code",
   "execution_count": 73,
   "metadata": {},
   "outputs": [
    {
     "data": {
      "text/plain": [
       "0    5000\n",
       "1    8500\n",
       "2    8990\n",
       "3    4350\n",
       "4    1350\n",
       "Name: usd_price, dtype: int64"
      ]
     },
     "execution_count": 73,
     "metadata": {},
     "output_type": "execute_result"
    }
   ],
   "source": [
    "autos['price'] = (autos['price']\n",
    "                      .str.replace(',', '')\n",
    "                      .str.replace('$','')\n",
    "                      .astype(int)\n",
    "                 )\n",
    "\n",
    "autos.rename({'price':'usd_price'}, inplace=True, axis=1)\n",
    "autos['usd_price'].head(5)\n"
   ]
  },
  {
   "cell_type": "code",
   "execution_count": 74,
   "metadata": {},
   "outputs": [
    {
     "data": {
      "text/plain": [
       "0    150000\n",
       "1    150000\n",
       "2     70000\n",
       "3     70000\n",
       "4    150000\n",
       "Name: odometer_km, dtype: int64"
      ]
     },
     "execution_count": 74,
     "metadata": {},
     "output_type": "execute_result"
    }
   ],
   "source": [
    "autos['odometer'] = (autos['odometer']\n",
    "                         .str.replace('km', '')\n",
    "                         .str.replace(',','')\n",
    "                         .astype(int)\n",
    "                    )\n",
    "\n",
    "autos.rename({'odometer':'odometer_km'}, inplace=True, axis=1)\n",
    "autos['odometer_km'].head(5)"
   ]
  },
  {
   "cell_type": "markdown",
   "metadata": {},
   "source": [
    "## Describe outliers\n"
   ]
  },
  {
   "cell_type": "code",
   "execution_count": 75,
   "metadata": {},
   "outputs": [
    {
     "data": {
      "text/html": [
       "<div>\n",
       "<style scoped>\n",
       "    .dataframe tbody tr th:only-of-type {\n",
       "        vertical-align: middle;\n",
       "    }\n",
       "\n",
       "    .dataframe tbody tr th {\n",
       "        vertical-align: top;\n",
       "    }\n",
       "\n",
       "    .dataframe thead th {\n",
       "        text-align: right;\n",
       "    }\n",
       "</style>\n",
       "<table border=\"1\" class=\"dataframe\">\n",
       "  <thead>\n",
       "    <tr style=\"text-align: right;\">\n",
       "      <th></th>\n",
       "      <th>odometer_km</th>\n",
       "      <th>usd_price</th>\n",
       "    </tr>\n",
       "  </thead>\n",
       "  <tbody>\n",
       "    <tr>\n",
       "      <th>count</th>\n",
       "      <td>50000.000000</td>\n",
       "      <td>5.000000e+04</td>\n",
       "    </tr>\n",
       "    <tr>\n",
       "      <th>mean</th>\n",
       "      <td>125732.700000</td>\n",
       "      <td>9.840044e+03</td>\n",
       "    </tr>\n",
       "    <tr>\n",
       "      <th>std</th>\n",
       "      <td>40042.211706</td>\n",
       "      <td>4.811044e+05</td>\n",
       "    </tr>\n",
       "    <tr>\n",
       "      <th>min</th>\n",
       "      <td>5000.000000</td>\n",
       "      <td>0.000000e+00</td>\n",
       "    </tr>\n",
       "    <tr>\n",
       "      <th>25%</th>\n",
       "      <td>125000.000000</td>\n",
       "      <td>1.100000e+03</td>\n",
       "    </tr>\n",
       "    <tr>\n",
       "      <th>50%</th>\n",
       "      <td>150000.000000</td>\n",
       "      <td>2.950000e+03</td>\n",
       "    </tr>\n",
       "    <tr>\n",
       "      <th>75%</th>\n",
       "      <td>150000.000000</td>\n",
       "      <td>7.200000e+03</td>\n",
       "    </tr>\n",
       "    <tr>\n",
       "      <th>max</th>\n",
       "      <td>150000.000000</td>\n",
       "      <td>1.000000e+08</td>\n",
       "    </tr>\n",
       "  </tbody>\n",
       "</table>\n",
       "</div>"
      ],
      "text/plain": [
       "         odometer_km     usd_price\n",
       "count   50000.000000  5.000000e+04\n",
       "mean   125732.700000  9.840044e+03\n",
       "std     40042.211706  4.811044e+05\n",
       "min      5000.000000  0.000000e+00\n",
       "25%    125000.000000  1.100000e+03\n",
       "50%    150000.000000  2.950000e+03\n",
       "75%    150000.000000  7.200000e+03\n",
       "max    150000.000000  1.000000e+08"
      ]
     },
     "execution_count": 75,
     "metadata": {},
     "output_type": "execute_result"
    }
   ],
   "source": [
    "autos[['odometer_km', 'usd_price']].describe()"
   ]
  },
  {
   "cell_type": "markdown",
   "metadata": {},
   "source": [
    "### Observations\n",
    "#### Odometer readings\n",
    "\n",
    "- The median and 75th percentile value are the same as the maximum value (150,000km). The 25th percentile is set at around 125,000km.\n",
    "- This indicates that a reading of 150,000km is not an outlier, since 75% of the listed cars are between 125,000 to 150,000km in mileage.\n",
    "#### Price\n",
    "\n",
    "- The maximum price is 100,000,000USD. This varies significantly from the median and 75th percentile values of 2,950 and 7,200USD respectively. The standard deviation is also considerably high (about 480,000 USD).\n",
    "- The minimum price of 0 is unusual and could affect our analysis."
   ]
  },
  {
   "cell_type": "code",
   "execution_count": 77,
   "metadata": {},
   "outputs": [
    {
     "data": {
      "text/plain": [
       "150000    32424\n",
       "125000     5170\n",
       "100000     2169\n",
       "90000      1757\n",
       "80000      1436\n",
       "70000      1230\n",
       "60000      1164\n",
       "50000      1027\n",
       "40000       819\n",
       "30000       789\n",
       "20000       784\n",
       "10000       264\n",
       "5000        967\n",
       "Name: odometer_km, dtype: int64"
      ]
     },
     "execution_count": 77,
     "metadata": {},
     "output_type": "execute_result"
    }
   ],
   "source": [
    "# odemeter_km\n",
    "autos['odometer_km'].value_counts().sort_index(ascending=False)"
   ]
  },
  {
   "cell_type": "markdown",
   "metadata": {},
   "source": [
    "#### Additional Observations\n",
    "- The least mileage observed is 5000km rather than 0km. This is expected because the cars listed on this platform are used cars.\n",
    "- Higher Mileage cars (above 50,000km) are more common on the listing than lower mileage ones.\n",
    "- Over 30,000 (~65%) cars have odometer readings of 150,000. This could imply that there is an upper mileage limit of 150,000km for cars accepted for listing."
   ]
  },
  {
   "cell_type": "code",
   "execution_count": 79,
   "metadata": {},
   "outputs": [
    {
     "data": {
      "text/plain": [
       "99999999    1\n",
       "27322222    1\n",
       "12345678    3\n",
       "11111111    2\n",
       "10000000    1\n",
       "Name: usd_price, dtype: int64"
      ]
     },
     "execution_count": 79,
     "metadata": {},
     "output_type": "execute_result"
    }
   ],
   "source": [
    "# usd_price\n",
    "autos['usd_price'].value_counts().sort_index(ascending=False).head()"
   ]
  },
  {
   "cell_type": "code",
   "execution_count": 80,
   "metadata": {},
   "outputs": [
    {
     "data": {
      "text/plain": [
       "count    5.000000e+04\n",
       "mean     9.840044e+03\n",
       "std      4.811044e+05\n",
       "min      0.000000e+00\n",
       "25%      1.100000e+03\n",
       "50%      2.950000e+03\n",
       "75%      7.200000e+03\n",
       "max      1.000000e+08\n",
       "Name: usd_price, dtype: float64"
      ]
     },
     "execution_count": 80,
     "metadata": {},
     "output_type": "execute_result"
    }
   ],
   "source": [
    "autos['usd_price'].describe()"
   ]
  },
  {
   "cell_type": "markdown",
   "metadata": {},
   "source": [
    "### Removing Price Outliers\n",
    "As observed earlier, the 25th, 50th and 75th percentile of the prices are 1,100, 2,950 and 7,200USD. We will use a selection method to create a “data fence” from our 25th to 75th percentiles. Any data beyond this fence will be considered an outlier.\n",
    "\n",
    "We already have enough information to calculate our interquartile range IQR. We will use the equation below to determine our upper and lower price fences:\n",
    "\n",
    "    Interquartile Range (IQR) = 75th Percentile - 25th Percentile\n",
    "    Lower fence = 25th Percentile - 1.5*(IQR)\n",
    "    Upper fence = 75th Percentile + 1.5*(IQR)\n",
    "Lets define all these boundaries in the code cell below:"
   ]
  },
  {
   "cell_type": "code",
   "execution_count": 81,
   "metadata": {},
   "outputs": [
    {
     "name": "stdout",
     "output_type": "stream",
     "text": [
      "Interquartile Range:  6100\n",
      "Lower fence:  -8050.0\n",
      "Upper fence:  16350.0\n"
     ]
    }
   ],
   "source": [
    "price_25, price_75 = (1100, 7200)\n",
    "\n",
    "IQR = price_75 - price_25\n",
    "lower_fence = price_25 - (1.5*IQR)\n",
    "upper_fence = price_75 + (1.5*IQR)\n",
    "\n",
    "print('Interquartile Range: ', IQR)\n",
    "print('Lower fence: ', lower_fence)\n",
    "print('Upper fence: ', upper_fence)"
   ]
  },
  {
   "cell_type": "markdown",
   "metadata": {},
   "source": [
    "Fences may extend beyond the data sometimes, so it is totally fine if our lower fence is negative. We should be mindful, however, that a minimum price value of 0 can also affect our analysis. In this case, it is advisable to eliminate the entries with zero prices too.\n",
    "\n",
    "Before we proceed, let's take a look at how many listings are recorded at zero price:"
   ]
  },
  {
   "cell_type": "code",
   "execution_count": 82,
   "metadata": {},
   "outputs": [
    {
     "data": {
      "text/plain": [
       "0       1421\n",
       "500      781\n",
       "1500     734\n",
       "2500     643\n",
       "1000     639\n",
       "Name: usd_price, dtype: int64"
      ]
     },
     "execution_count": 82,
     "metadata": {},
     "output_type": "execute_result"
    }
   ],
   "source": [
    "autos['usd_price'].value_counts().head()\n"
   ]
  },
  {
   "cell_type": "markdown",
   "metadata": {},
   "source": [
    "Of the 50,000 rows in our dataset, 1,421 records (3%) are listed at zero price. Since this percentage is very low, we can safely remove these entries. We will set our lower fence at 1 to exclude zero prices:"
   ]
  },
  {
   "cell_type": "code",
   "execution_count": 83,
   "metadata": {},
   "outputs": [
    {
     "data": {
      "text/plain": [
       "count    44795.000000\n",
       "mean      4089.433620\n",
       "std       3841.429247\n",
       "min          1.000000\n",
       "25%       1150.000000\n",
       "50%       2700.000000\n",
       "75%       5999.000000\n",
       "max      16350.000000\n",
       "Name: usd_price, dtype: float64"
      ]
     },
     "execution_count": 83,
     "metadata": {},
     "output_type": "execute_result"
    }
   ],
   "source": [
    "autos = autos[autos['usd_price'].between(1, upper_fence)]\n",
    "\n",
    "autos['usd_price'].describe()"
   ]
  },
  {
   "cell_type": "markdown",
   "metadata": {},
   "source": [
    "#### Observations\n",
    "- Our dataset has been reduced to 44,795 rows in total. The 25th, 50th and 75th percentiles are close to their initial values before cleaning.\n",
    "- The standard deviation (3,841USD) is considerably lower than the value of 480,000USD recorded before.\n",
    "- 16,350USD is a better approximation for the maximum price than the previous value of 100,000,000USD, considering that our 75th percentile is around 6,000USD.\n",
    "\n",
    "Let's now explore the date columns to understand the date range our data covers"
   ]
  },
  {
   "cell_type": "markdown",
   "metadata": {},
   "source": [
    "There are 5 columns that should represent date values. Some of these columns were created by the crawler, some came from the website itself. We can differentiate by referring to the data dictionary:"
   ]
  },
  {
   "cell_type": "markdown",
   "metadata": {},
   "source": [
    "```python \n",
    "- `date_crawled`: added by the crawler\n",
    "- `last_seen`: added by the crawler\n",
    "- `ad_created`: from the website\n",
    "- `registration_month`: from the website\n",
    "- `registration_year`: from the website\n",
    "```\n",
    "> crawler = rastreador"
   ]
  },
  {
   "cell_type": "code",
   "execution_count": 84,
   "metadata": {},
   "outputs": [
    {
     "data": {
      "text/html": [
       "<div>\n",
       "<style scoped>\n",
       "    .dataframe tbody tr th:only-of-type {\n",
       "        vertical-align: middle;\n",
       "    }\n",
       "\n",
       "    .dataframe tbody tr th {\n",
       "        vertical-align: top;\n",
       "    }\n",
       "\n",
       "    .dataframe thead th {\n",
       "        text-align: right;\n",
       "    }\n",
       "</style>\n",
       "<table border=\"1\" class=\"dataframe\">\n",
       "  <thead>\n",
       "    <tr style=\"text-align: right;\">\n",
       "      <th></th>\n",
       "      <th>date_crawled</th>\n",
       "      <th>ad_created</th>\n",
       "      <th>last_seen</th>\n",
       "    </tr>\n",
       "  </thead>\n",
       "  <tbody>\n",
       "    <tr>\n",
       "      <th>0</th>\n",
       "      <td>2016-03-26 17:47:46</td>\n",
       "      <td>2016-03-26 00:00:00</td>\n",
       "      <td>2016-04-06 06:45:54</td>\n",
       "    </tr>\n",
       "    <tr>\n",
       "      <th>1</th>\n",
       "      <td>2016-04-04 13:38:56</td>\n",
       "      <td>2016-04-04 00:00:00</td>\n",
       "      <td>2016-04-06 14:45:08</td>\n",
       "    </tr>\n",
       "    <tr>\n",
       "      <th>2</th>\n",
       "      <td>2016-03-26 18:57:24</td>\n",
       "      <td>2016-03-26 00:00:00</td>\n",
       "      <td>2016-04-06 20:15:37</td>\n",
       "    </tr>\n",
       "    <tr>\n",
       "      <th>3</th>\n",
       "      <td>2016-03-12 16:58:10</td>\n",
       "      <td>2016-03-12 00:00:00</td>\n",
       "      <td>2016-03-15 03:16:28</td>\n",
       "    </tr>\n",
       "    <tr>\n",
       "      <th>4</th>\n",
       "      <td>2016-04-01 14:38:50</td>\n",
       "      <td>2016-04-01 00:00:00</td>\n",
       "      <td>2016-04-01 14:38:50</td>\n",
       "    </tr>\n",
       "  </tbody>\n",
       "</table>\n",
       "</div>"
      ],
      "text/plain": [
       "          date_crawled           ad_created            last_seen\n",
       "0  2016-03-26 17:47:46  2016-03-26 00:00:00  2016-04-06 06:45:54\n",
       "1  2016-04-04 13:38:56  2016-04-04 00:00:00  2016-04-06 14:45:08\n",
       "2  2016-03-26 18:57:24  2016-03-26 00:00:00  2016-04-06 20:15:37\n",
       "3  2016-03-12 16:58:10  2016-03-12 00:00:00  2016-03-15 03:16:28\n",
       "4  2016-04-01 14:38:50  2016-04-01 00:00:00  2016-04-01 14:38:50"
      ]
     },
     "execution_count": 84,
     "metadata": {},
     "output_type": "execute_result"
    }
   ],
   "source": [
    "# exploring the date columns\n",
    "autos[['date_crawled','ad_created','last_seen']][0:5]"
   ]
  },
  {
   "cell_type": "code",
   "execution_count": 85,
   "metadata": {},
   "outputs": [
    {
     "data": {
      "text/plain": [
       "2016-03-05    0.025516\n",
       "2016-03-06    0.013997\n",
       "2016-03-07    0.036098\n",
       "2016-03-08    0.033642\n",
       "2016-03-09    0.033129\n",
       "2016-03-10    0.032705\n",
       "2016-03-11    0.032481\n",
       "2016-03-12    0.037393\n",
       "2016-03-13    0.015604\n",
       "2016-03-14    0.036991\n",
       "2016-03-15    0.034178\n",
       "2016-03-16    0.029959\n",
       "2016-03-17    0.031990\n",
       "2016-03-18    0.012769\n",
       "2016-03-19    0.034200\n",
       "2016-03-20    0.037705\n",
       "2016-03-21    0.037192\n",
       "2016-03-22    0.032727\n",
       "2016-03-23    0.032481\n",
       "2016-03-24    0.029378\n",
       "2016-03-25    0.032013\n",
       "2016-03-26    0.032593\n",
       "2016-03-27    0.030718\n",
       "2016-03-28    0.034781\n",
       "2016-03-29    0.034200\n",
       "2016-03-30    0.033865\n",
       "2016-03-31    0.031588\n",
       "2016-04-01    0.032794\n",
       "2016-04-02    0.034982\n",
       "2016-04-03    0.038531\n",
       "2016-04-04    0.036366\n",
       "2016-04-05    0.012948\n",
       "2016-04-06    0.003170\n",
       "2016-04-07    0.001317\n",
       "Name: date_crawled, dtype: float64"
      ]
     },
     "execution_count": 85,
     "metadata": {},
     "output_type": "execute_result"
    }
   ],
   "source": [
    "autos[\"date_crawled\"].str[:10].value_counts(normalize=True, dropna=False).sort_index()"
   ]
  },
  {
   "cell_type": "markdown",
   "metadata": {},
   "source": [
    "#### Observation:\n",
    "Data is crawled between 5th March 2016 and 7th April 2016.\n"
   ]
  },
  {
   "cell_type": "code",
   "execution_count": 86,
   "metadata": {},
   "outputs": [
    {
     "data": {
      "text/plain": [
       "2015-08-10    0.000022\n",
       "2015-09-09    0.000022\n",
       "2015-11-10    0.000022\n",
       "2015-12-05    0.000022\n",
       "2015-12-30    0.000022\n",
       "                ...   \n",
       "2016-04-03    0.038799\n",
       "2016-04-04    0.036701\n",
       "2016-04-05    0.011653\n",
       "2016-04-06    0.003237\n",
       "2016-04-07    0.001183\n",
       "Name: ad_created, Length: 73, dtype: float64"
      ]
     },
     "execution_count": 86,
     "metadata": {},
     "output_type": "execute_result"
    }
   ],
   "source": [
    "#Remove the values outside those upper and lower bounds and calculate the distribution of the remaining values using Series.value_counts(normalize=True).\n",
    "\n",
    "autos[\"ad_created\"].str[:10].value_counts(normalize=True, dropna=False).sort_index()"
   ]
  },
  {
   "cell_type": "markdown",
   "metadata": {},
   "source": [
    "The dates are in between June 2015 and April 2016. We can analyze further based on month and year (without date)\n",
    "\n"
   ]
  },
  {
   "cell_type": "code",
   "execution_count": 87,
   "metadata": {},
   "outputs": [
    {
     "data": {
      "text/plain": [
       "2015-08    0.000022\n",
       "2015-09    0.000022\n",
       "2015-11    0.000022\n",
       "2015-12    0.000045\n",
       "2016-01    0.000246\n",
       "2016-02    0.001250\n",
       "2016-03    0.839290\n",
       "2016-04    0.159103\n",
       "Name: ad_created, dtype: float64"
      ]
     },
     "execution_count": 87,
     "metadata": {},
     "output_type": "execute_result"
    }
   ],
   "source": [
    "autos[\"ad_created\"].str[:7].value_counts(normalize=True, dropna=False).sort_index()\n"
   ]
  },
  {
   "cell_type": "markdown",
   "metadata": {},
   "source": [
    "#### Observation:\n",
    "The maximum number of ads were created in the month of March 2016."
   ]
  },
  {
   "cell_type": "code",
   "execution_count": 88,
   "metadata": {},
   "outputs": [
    {
     "data": {
      "text/plain": [
       "2016-03-05    0.001161\n",
       "2016-03-06    0.004576\n",
       "2016-03-07    0.005693\n",
       "2016-03-08    0.007903\n",
       "2016-03-09    0.010068\n",
       "2016-03-10    0.011162\n",
       "2016-03-11    0.013037\n",
       "2016-03-12    0.024936\n",
       "2016-03-13    0.009376\n",
       "2016-03-14    0.012859\n",
       "2016-03-15    0.016274\n",
       "2016-03-16    0.016966\n",
       "2016-03-17    0.029043\n",
       "2016-03-18    0.007568\n",
       "2016-03-19    0.016475\n",
       "2016-03-20    0.021230\n",
       "2016-03-21    0.021185\n",
       "2016-03-22    0.021922\n",
       "2016-03-23    0.019109\n",
       "2016-03-24    0.020449\n",
       "2016-03-25    0.020002\n",
       "2016-03-26    0.017234\n",
       "2016-03-27    0.016207\n",
       "2016-03-28    0.021699\n",
       "2016-03-29    0.023016\n",
       "2016-03-30    0.025472\n",
       "2016-03-31    0.024333\n",
       "2016-04-01    0.023306\n",
       "2016-04-02    0.025226\n",
       "2016-04-03    0.025673\n",
       "2016-04-04    0.025047\n",
       "2016-04-05    0.121286\n",
       "2016-04-06    0.214332\n",
       "2016-04-07    0.126175\n",
       "Name: last_seen, dtype: float64"
      ]
     },
     "execution_count": 88,
     "metadata": {},
     "output_type": "execute_result"
    }
   ],
   "source": [
    "autos[\"last_seen\"].str[:10].value_counts(normalize=True, dropna=False).sort_index()\n"
   ]
  },
  {
   "cell_type": "markdown",
   "metadata": {},
   "source": [
    "#### Observation:\n",
    "On 5.April, 6.April and 7.April, we can see the spike in last seen entries,"
   ]
  },
  {
   "cell_type": "markdown",
   "metadata": {},
   "source": [
    "### Phase 6: Analyzing Registration Year"
   ]
  },
  {
   "cell_type": "code",
   "execution_count": 90,
   "metadata": {},
   "outputs": [
    {
     "data": {
      "text/plain": [
       "count    44795.00000\n",
       "mean      2003.97339\n",
       "std         74.81955\n",
       "min       1000.00000\n",
       "25%       1999.00000\n",
       "50%       2003.00000\n",
       "75%       2007.00000\n",
       "max       9999.00000\n",
       "Name: registration_year, dtype: float64"
      ]
     },
     "execution_count": 90,
     "metadata": {},
     "output_type": "execute_result"
    }
   ],
   "source": [
    "autos[\"registration_year\"].describe()"
   ]
  },
  {
   "cell_type": "markdown",
   "metadata": {},
   "source": [
    "registration year 1000 and 9999 looks unrealistic. So let's find out the minimum logical registration year."
   ]
  },
  {
   "cell_type": "code",
   "execution_count": 91,
   "metadata": {},
   "outputs": [
    {
     "data": {
      "text/plain": [
       "1000    0.000022\n",
       "1001    0.000022\n",
       "1111    0.000022\n",
       "1800    0.000045\n",
       "1910    0.000112\n",
       "          ...   \n",
       "4800    0.000022\n",
       "5000    0.000089\n",
       "5911    0.000022\n",
       "8888    0.000022\n",
       "9999    0.000045\n",
       "Name: registration_year, Length: 85, dtype: float64"
      ]
     },
     "execution_count": 91,
     "metadata": {},
     "output_type": "execute_result"
    }
   ],
   "source": [
    "autos[\"registration_year\"].value_counts(normalize=True, dropna=False).sort_index()\n"
   ]
  },
  {
   "cell_type": "markdown",
   "metadata": {},
   "source": [
    "#### Observation:\n",
    "1910 looks realistic minimum year and 2016 looks realistic maximum year because the registration date cannot be later than ad_created. So we can delete the entries having invalid data in registration year"
   ]
  },
  {
   "cell_type": "code",
   "execution_count": 92,
   "metadata": {},
   "outputs": [],
   "source": [
    "autos = autos[autos[\"registration_year\"].between(1910,2016)]"
   ]
  },
  {
   "cell_type": "code",
   "execution_count": 93,
   "metadata": {},
   "outputs": [
    {
     "data": {
      "text/html": [
       "<div>\n",
       "<style scoped>\n",
       "    .dataframe tbody tr th:only-of-type {\n",
       "        vertical-align: middle;\n",
       "    }\n",
       "\n",
       "    .dataframe tbody tr th {\n",
       "        vertical-align: top;\n",
       "    }\n",
       "\n",
       "    .dataframe thead th {\n",
       "        text-align: right;\n",
       "    }\n",
       "</style>\n",
       "<table border=\"1\" class=\"dataframe\">\n",
       "  <thead>\n",
       "    <tr style=\"text-align: right;\">\n",
       "      <th></th>\n",
       "      <th>usd_price</th>\n",
       "      <th>registration_year</th>\n",
       "      <th>power_ps</th>\n",
       "      <th>odometer_km</th>\n",
       "      <th>registration_month</th>\n",
       "      <th>nr_of_pictures</th>\n",
       "      <th>postal_code</th>\n",
       "    </tr>\n",
       "  </thead>\n",
       "  <tbody>\n",
       "    <tr>\n",
       "      <th>count</th>\n",
       "      <td>42959.000000</td>\n",
       "      <td>42959.000000</td>\n",
       "      <td>42959.000000</td>\n",
       "      <td>42959.000000</td>\n",
       "      <td>42959.000000</td>\n",
       "      <td>42959.0</td>\n",
       "      <td>42959.000000</td>\n",
       "    </tr>\n",
       "    <tr>\n",
       "      <th>mean</th>\n",
       "      <td>4129.176680</td>\n",
       "      <td>2002.395191</td>\n",
       "      <td>109.872925</td>\n",
       "      <td>129684.582974</td>\n",
       "      <td>5.791918</td>\n",
       "      <td>0.0</td>\n",
       "      <td>50613.600549</td>\n",
       "    </tr>\n",
       "    <tr>\n",
       "      <th>std</th>\n",
       "      <td>3863.748169</td>\n",
       "      <td>6.750207</td>\n",
       "      <td>188.566039</td>\n",
       "      <td>36385.094333</td>\n",
       "      <td>3.691957</td>\n",
       "      <td>0.0</td>\n",
       "      <td>25736.625285</td>\n",
       "    </tr>\n",
       "    <tr>\n",
       "      <th>min</th>\n",
       "      <td>1.000000</td>\n",
       "      <td>1910.000000</td>\n",
       "      <td>0.000000</td>\n",
       "      <td>5000.000000</td>\n",
       "      <td>0.000000</td>\n",
       "      <td>0.0</td>\n",
       "      <td>1067.000000</td>\n",
       "    </tr>\n",
       "    <tr>\n",
       "      <th>25%</th>\n",
       "      <td>1150.000000</td>\n",
       "      <td>1999.000000</td>\n",
       "      <td>69.000000</td>\n",
       "      <td>125000.000000</td>\n",
       "      <td>3.000000</td>\n",
       "      <td>0.0</td>\n",
       "      <td>30165.000000</td>\n",
       "    </tr>\n",
       "    <tr>\n",
       "      <th>50%</th>\n",
       "      <td>2750.000000</td>\n",
       "      <td>2003.000000</td>\n",
       "      <td>105.000000</td>\n",
       "      <td>150000.000000</td>\n",
       "      <td>6.000000</td>\n",
       "      <td>0.0</td>\n",
       "      <td>49453.000000</td>\n",
       "    </tr>\n",
       "    <tr>\n",
       "      <th>75%</th>\n",
       "      <td>6000.000000</td>\n",
       "      <td>2007.000000</td>\n",
       "      <td>140.000000</td>\n",
       "      <td>150000.000000</td>\n",
       "      <td>9.000000</td>\n",
       "      <td>0.0</td>\n",
       "      <td>71144.000000</td>\n",
       "    </tr>\n",
       "    <tr>\n",
       "      <th>max</th>\n",
       "      <td>16350.000000</td>\n",
       "      <td>2016.000000</td>\n",
       "      <td>17700.000000</td>\n",
       "      <td>150000.000000</td>\n",
       "      <td>12.000000</td>\n",
       "      <td>0.0</td>\n",
       "      <td>99998.000000</td>\n",
       "    </tr>\n",
       "  </tbody>\n",
       "</table>\n",
       "</div>"
      ],
      "text/plain": [
       "          usd_price  registration_year      power_ps    odometer_km  \\\n",
       "count  42959.000000       42959.000000  42959.000000   42959.000000   \n",
       "mean    4129.176680        2002.395191    109.872925  129684.582974   \n",
       "std     3863.748169           6.750207    188.566039   36385.094333   \n",
       "min        1.000000        1910.000000      0.000000    5000.000000   \n",
       "25%     1150.000000        1999.000000     69.000000  125000.000000   \n",
       "50%     2750.000000        2003.000000    105.000000  150000.000000   \n",
       "75%     6000.000000        2007.000000    140.000000  150000.000000   \n",
       "max    16350.000000        2016.000000  17700.000000  150000.000000   \n",
       "\n",
       "       registration_month  nr_of_pictures   postal_code  \n",
       "count        42959.000000         42959.0  42959.000000  \n",
       "mean             5.791918             0.0  50613.600549  \n",
       "std              3.691957             0.0  25736.625285  \n",
       "min              0.000000             0.0   1067.000000  \n",
       "25%              3.000000             0.0  30165.000000  \n",
       "50%              6.000000             0.0  49453.000000  \n",
       "75%              9.000000             0.0  71144.000000  \n",
       "max             12.000000             0.0  99998.000000  "
      ]
     },
     "execution_count": 93,
     "metadata": {},
     "output_type": "execute_result"
    }
   ],
   "source": [
    "autos.describe()"
   ]
  },
  {
   "cell_type": "markdown",
   "metadata": {},
   "source": [
    "Around 1884 entries have been removed from the analysis.\n",
    "\n"
   ]
  },
  {
   "cell_type": "markdown",
   "metadata": {},
   "source": [
    "## Exploring price by brand\n",
    "We will use aggregation to understand the brand column.\n",
    "\n"
   ]
  },
  {
   "cell_type": "code",
   "execution_count": 94,
   "metadata": {},
   "outputs": [
    {
     "data": {
      "text/plain": [
       "volkswagen        0.214763\n",
       "opel              0.115203\n",
       "bmw               0.103541\n",
       "mercedes_benz     0.088131\n",
       "audi              0.077562\n",
       "ford              0.073093\n",
       "renault           0.050769\n",
       "peugeot           0.032170\n",
       "fiat              0.027747\n",
       "seat              0.019088\n",
       "skoda             0.016993\n",
       "mazda             0.016085\n",
       "nissan            0.015782\n",
       "smart             0.015363\n",
       "citroen           0.015038\n",
       "toyota            0.013362\n",
       "hyundai           0.010545\n",
       "volvo             0.009334\n",
       "mitsubishi        0.008706\n",
       "sonstige_autos    0.008496\n",
       "honda             0.008334\n",
       "mini              0.007752\n",
       "alfa_romeo        0.007007\n",
       "kia               0.006960\n",
       "suzuki            0.006378\n",
       "chevrolet         0.005750\n",
       "chrysler          0.003748\n",
       "dacia             0.002863\n",
       "daihatsu          0.002724\n",
       "subaru            0.002211\n",
       "jeep              0.002002\n",
       "porsche           0.001886\n",
       "saab              0.001769\n",
       "daewoo            0.001629\n",
       "trabant           0.001513\n",
       "rover             0.001420\n",
       "land_rover        0.001304\n",
       "jaguar            0.001234\n",
       "lancia            0.001117\n",
       "lada              0.000629\n",
       "Name: brand, dtype: float64"
      ]
     },
     "execution_count": 94,
     "metadata": {},
     "output_type": "execute_result"
    }
   ],
   "source": [
    "autos[\"brand\"].value_counts(normalize=True)\n"
   ]
  },
  {
   "cell_type": "code",
   "execution_count": 96,
   "metadata": {},
   "outputs": [
    {
     "data": {
      "text/plain": [
       "{'volkswagen': 4183,\n",
       " 'opel': 2712,\n",
       " 'bmw': 5649,\n",
       " 'mercedes_benz': 5259,\n",
       " 'audi': 5703,\n",
       " 'ford': 2944,\n",
       " 'renault': 2281,\n",
       " 'peugeot': 2967,\n",
       " 'fiat': 2740,\n",
       " 'seat': 3747,\n",
       " 'skoda': 5586,\n",
       " 'mazda': 3557,\n",
       " 'nissan': 3899,\n",
       " 'smart': 3560,\n",
       " 'citroen': 3543,\n",
       " 'toyota': 4594,\n",
       " 'hyundai': 4876}"
      ]
     },
     "execution_count": 96,
     "metadata": {},
     "output_type": "execute_result"
    }
   ],
   "source": [
    "#Let us consider the brands that form at least 1 % of our data.\n",
    "brands_all = autos[\"brand\"].value_counts(normalize=True)\n",
    "brands_selected = brands_all[brands_all > 0.01].index\n",
    "\n",
    "brand_price = {}\n",
    "for brand in brands_selected:\n",
    "    brand_autos = autos[autos[\"brand\"]==brand]\n",
    "    mean_price = brand_autos[\"usd_price\"].mean()\n",
    "    brand_price[brand] = int(mean_price)\n",
    "    \n",
    "brand_price"
   ]
  },
  {
   "cell_type": "markdown",
   "metadata": {},
   "source": [
    "#### Observations:\n",
    "Audi, Mercedes Benz and BMW are the expensive ones but have maximum ads created also. This can be marked as high end cars.\n",
    "Volkswagon is mid-level expensive and at the same time has the maximum entries. This is the most famous brand and cost efficient\n",
    "Ford and Opel are least expensive with maximum ads created."
   ]
  },
  {
   "cell_type": "markdown",
   "metadata": {},
   "source": [
    "### Storing aggregate data in a data frame\n",
    "Calculate mean mileage and mean price for the above selected brands which constitute more than 0.05% of our data and create the data frame. We will be caluclating these separately for automatic and manual."
   ]
  },
  {
   "cell_type": "code",
   "execution_count": 98,
   "metadata": {},
   "outputs": [
    {
     "data": {
      "text/html": [
       "<div>\n",
       "<style scoped>\n",
       "    .dataframe tbody tr th:only-of-type {\n",
       "        vertical-align: middle;\n",
       "    }\n",
       "\n",
       "    .dataframe tbody tr th {\n",
       "        vertical-align: top;\n",
       "    }\n",
       "\n",
       "    .dataframe thead th {\n",
       "        text-align: right;\n",
       "    }\n",
       "</style>\n",
       "<table border=\"1\" class=\"dataframe\">\n",
       "  <thead>\n",
       "    <tr style=\"text-align: right;\">\n",
       "      <th></th>\n",
       "      <th>mean_price_automatik</th>\n",
       "      <th>mean_odometer_automatik</th>\n",
       "      <th>count_automatik</th>\n",
       "      <th>mean_price_manuell</th>\n",
       "      <th>mean_odometer_manuell</th>\n",
       "      <th>count_manuell</th>\n",
       "    </tr>\n",
       "  </thead>\n",
       "  <tbody>\n",
       "    <tr>\n",
       "      <th>volkswagen</th>\n",
       "      <td>6620</td>\n",
       "      <td>131800</td>\n",
       "      <td>1011</td>\n",
       "      <td>3971</td>\n",
       "      <td>133139</td>\n",
       "      <td>7736</td>\n",
       "    </tr>\n",
       "    <tr>\n",
       "      <th>opel</th>\n",
       "      <td>2966</td>\n",
       "      <td>128069</td>\n",
       "      <td>492</td>\n",
       "      <td>2747</td>\n",
       "      <td>131007</td>\n",
       "      <td>4215</td>\n",
       "    </tr>\n",
       "    <tr>\n",
       "      <th>bmw</th>\n",
       "      <td>7288</td>\n",
       "      <td>141112</td>\n",
       "      <td>1254</td>\n",
       "      <td>5074</td>\n",
       "      <td>138577</td>\n",
       "      <td>3055</td>\n",
       "    </tr>\n",
       "    <tr>\n",
       "      <th>mercedes_benz</th>\n",
       "      <td>6323</td>\n",
       "      <td>139706</td>\n",
       "      <td>1890</td>\n",
       "      <td>4260</td>\n",
       "      <td>138334</td>\n",
       "      <td>1762</td>\n",
       "    </tr>\n",
       "    <tr>\n",
       "      <th>audi</th>\n",
       "      <td>7201</td>\n",
       "      <td>141227</td>\n",
       "      <td>925</td>\n",
       "      <td>5269</td>\n",
       "      <td>139488</td>\n",
       "      <td>2260</td>\n",
       "    </tr>\n",
       "    <tr>\n",
       "      <th>ford</th>\n",
       "      <td>4139</td>\n",
       "      <td>128233</td>\n",
       "      <td>201</td>\n",
       "      <td>2912</td>\n",
       "      <td>127170</td>\n",
       "      <td>2788</td>\n",
       "    </tr>\n",
       "    <tr>\n",
       "      <th>renault</th>\n",
       "      <td>3251</td>\n",
       "      <td>122769</td>\n",
       "      <td>139</td>\n",
       "      <td>2274</td>\n",
       "      <td>129249</td>\n",
       "      <td>1933</td>\n",
       "    </tr>\n",
       "  </tbody>\n",
       "</table>\n",
       "</div>"
      ],
      "text/plain": [
       "               mean_price_automatik  mean_odometer_automatik  count_automatik  \\\n",
       "volkswagen                     6620                   131800             1011   \n",
       "opel                           2966                   128069              492   \n",
       "bmw                            7288                   141112             1254   \n",
       "mercedes_benz                  6323                   139706             1890   \n",
       "audi                           7201                   141227              925   \n",
       "ford                           4139                   128233              201   \n",
       "renault                        3251                   122769              139   \n",
       "\n",
       "               mean_price_manuell  mean_odometer_manuell  count_manuell  \n",
       "volkswagen                   3971                 133139           7736  \n",
       "opel                         2747                 131007           4215  \n",
       "bmw                          5074                 138577           3055  \n",
       "mercedes_benz                4260                 138334           1762  \n",
       "audi                         5269                 139488           2260  \n",
       "ford                         2912                 127170           2788  \n",
       "renault                      2274                 129249           1933  "
      ]
     },
     "execution_count": 98,
     "metadata": {},
     "output_type": "execute_result"
    }
   ],
   "source": [
    "brands_all = autos[\"brand\"].value_counts(normalize=True)\n",
    "brands_selected = brands_all[brands_all > 0.05].index\n",
    "\n",
    "brand_price_automatik = {}\n",
    "brand_price_manuell = {}\n",
    "brand_odometer_automatik = {}\n",
    "brand_odometer_manuell = {}\n",
    "brand_count_manuell = {}\n",
    "brand_count_automatik = {}\n",
    "for brand in brands_selected:\n",
    "    brand_autos = autos[(autos[\"brand\"] == brand) & (autos[\"gearbox\"] == \"manuell\")]\n",
    "    brand_autos_count = brand_autos[\"brand\"].value_counts()\n",
    "    mean_price = brand_autos[\"usd_price\"].mean()\n",
    "    mean_mileage = brand_autos[\"odometer_km\"].mean()\n",
    "    brand_price_manuell[brand] = int(mean_price)\n",
    "    brand_odometer_manuell[brand] = int(mean_mileage)\n",
    "    brand_count_manuell[brand] = int(brand_autos_count)\n",
    "\n",
    "    brand_autos = autos[(autos[\"brand\"] == brand) & (autos[\"gearbox\"] == \"automatik\")]\n",
    "    brand_autos_count = brand_autos[\"brand\"].value_counts()\n",
    "    brand_autos_automatik_count = brand_autos[\"brand\"].value_counts()\n",
    "    mean_price = brand_autos[\"usd_price\"].mean()\n",
    "    mean_mileage = brand_autos[\"odometer_km\"].mean()\n",
    "    brand_price_automatik[brand] = int(mean_price)    \n",
    "    brand_odometer_automatik[brand] = int(mean_mileage)\n",
    "    brand_count_automatik[brand] = int(brand_autos_count)\n",
    "    \n",
    "bpa_series = pd.Series(brand_price_automatik)\n",
    "bpm_series = pd.Series(brand_price_manuell)\n",
    "boa_series = pd.Series(brand_odometer_automatik)\n",
    "bom_series = pd.Series(brand_odometer_manuell)\n",
    "bcm_series = pd.Series(brand_count_manuell)\n",
    "bca_series = pd.Series(brand_count_automatik)\n",
    "\n",
    "brand_summary = pd.DataFrame(bpa_series, columns=['mean_price_automatik'])\n",
    "brand_summary[\"mean_odometer_automatik\"] = boa_series\n",
    "brand_summary[\"count_automatik\"] = bca_series\n",
    "brand_summary[\"mean_price_manuell\"] = bpm_series\n",
    "brand_summary[\"mean_odometer_manuell\"] = bom_series\n",
    "brand_summary[\"count_manuell\"] = bcm_series\n",
    "\n",
    "brand_summary"
   ]
  },
  {
   "cell_type": "markdown",
   "metadata": {},
   "source": [
    "#### Observations:\n",
    "The mean price for automatik cars is almost double that of manuell in any given Brand except for Opel, where the count of manuell cars is almost eight times of automatik cars\n",
    "The count of manuell cars listed are more than count of automatik cars listed except for Merceds_Benz. Also count of Mercedes_Benz Automatik is the highest in Automatik.\n",
    "There is not much variation in odometer based on brand or gearbox"
   ]
  },
  {
   "cell_type": "code",
   "execution_count": null,
   "metadata": {},
   "outputs": [],
   "source": []
  }
 ],
 "metadata": {
  "kernelspec": {
   "display_name": "Python 3",
   "language": "python",
   "name": "python3"
  },
  "language_info": {
   "codemirror_mode": {
    "name": "ipython",
    "version": 3
   },
   "file_extension": ".py",
   "mimetype": "text/x-python",
   "name": "python",
   "nbconvert_exporter": "python",
   "pygments_lexer": "ipython3",
   "version": "3.8.2"
  }
 },
 "nbformat": 4,
 "nbformat_minor": 2
}
